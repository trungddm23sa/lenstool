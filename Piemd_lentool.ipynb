from astropy.io import fits
import matplotlib.pyplot as plt
from astropy.table import Table
from matplotlib.patches import Ellipse
import os
import numpy as np
import lenstool
from lenstool.potentials import dpie
from photutils.detection import DAOStarFinder
from astropy.stats import sigma_clipped_stats
from datetime import datetime
import shutil

# Function to ensure the output directory is fresh
def prepare_output_dir(output_dir):
    if os.path.exists(output_dir):
        shutil.rmtree(output_dir)
    os.makedirs(output_dir)

# Initialize Lenstool
lt = lenstool.Lenstool()

# Define dPIE lens parameters based on the summary values
clumps_summary = [
    {'x': 3.586259, 'y': -30.400174, 'emass': 0.828, 'theta': 0.0, 'z': 0.308, 'sigma': 607.07, 'rc': 85.050, 'rcut': 1000.00},
    {'x': 3.586259, 'y': -30.400174, 'emass': 0.507, 'theta': 0.0, 'z': 0.308, 'sigma': 742.81, 'rc': 48.139, 'rcut': 1000.00},
    {'x': 3.586259, 'y': -30.400174, 'emass': 0.720, 'theta': 0.0, 'z': 0.308, 'sigma': 175.56, 'rc': 0.115, 'rcut': 13.22},
    {'x': 3.586259, 'y': -30.400174, 'emass': 0.205, 'theta': 0.0, 'z': 0.308, 'sigma': 355.18, 'rc': 0.336, 'rcut': 28.47},
    {'x': 3.586259, 'y': -30.400174, 'emass': 0.377, 'theta': 0.0, 'z': 0.308, 'sigma': 321.65, 'rc': 0.348, 'rcut': 29.54},
    {'x': 3.586259, 'y': -30.400174, 'emass': 0.299, 'theta': 0.0, 'z': 0.308, 'sigma': 10.57, 'rc': 0.146, 'rcut': 6.81}
]

# Add each clump as a dPIE lens to Lenstool
for clump in clumps_summary:
    lt.add_lens(dpie(clump['x'], clump['y'], clump['emass'], clump['theta'],
                     clump['z'], clump['sigma'], clump['rc'], clump['rcut']))

# Set cosmological parameters
lt.set_cosmology(70, 0.3, 0.7, -1)

# Set field and grid parameters
lt.set_field(150)
lt.set_grid(128, 128)

# Print the lens model parameters
print(lt.get_lenses())

# Function to detect sources using DAOStarFinder
def detect_sources(file_path, max_sources=50):
    # Open the FITS file
    hdu_list = fits.open(file_path)
    image_data = hdu_list[0].data

    # Source detection using DAOStarFinder
    mean, median, std = sigma_clipped_stats(image_data, sigma=3.0, maxiters=5)
    daofind = DAOStarFinder(fwhm=3.0, threshold=5.*std)
    sources = daofind(image_data - median)

    # Limit to maximum 50 sources
    sources = sources[:max_sources]

    # Define source properties
    tab = Table(names=('n', 'x', 'y', 'a', 'b', 'theta', 'z', 'mag'), dtype=['str', 'float', 'float', 'float', 'float', 'float', 'float', 'float'])
    for i, source in enumerate(sources):
        tab.add_row([str(i), source['xcentroid'], source['ycentroid'], 1.0, 1.0, 0.0, 1.0, source['mag']])
    
    return tab

# Option to choose source detection method
use_predefined_sources = input("Do you want to use predefined source data? (yes/no): ").strip().lower() == 'yes'

if use_predefined_sources:
    # Use predefined source sample
    sources = [{'n': '1a', 'x': 0.6789067, 'y': -9.7, 'a': 3.5, 'b': 3.5, 'theta': 0, 'z': 1.0, 'mag': 20}]
    # Define source properties
    tab = Table(names=('n', 'x', 'y', 'a', 'b', 'theta', 'z', 'mag'), dtype=['str', 'float', 'float', 'float', 'float', 'float', 'float', 'float'])
    for source in sources:
        tab.add_row([source['n'], source['x'], source['y'], source['a'], source['b'], source['theta'], source['z'], source['mag']])
else:
    # Use DAOStarFinder to detect sources
    file_path = '/Users/mac8868/Downloads/UNCOVER_DR2_LW_DETECTION.fits'
    tab = detect_sources(file_path)

# Set source parameters in Lenstool
lt.set_sources(tab)

# Print the source parameters
print(lt.get_sources())

# Generate the mass and WCS for plotting
mass, wcs = lt.g_mass(3, 100, 0.3, 1.0)

# Prepare output directory
output_dir = '/Users/mac8868/Documents/lenstool_results'
prepare_output_dir(output_dir)

# Plot the mass distribution and source ellipses and save to PDF
for i, row in enumerate(lt.get_sources()):
    fig, ax = plt.subplots(figsize=(8, 8), subplot_kw={'projection': wcs})
    ax.imshow(mass, origin='lower', cmap='viridis')
    plt.colorbar(ax.imshow(mass, origin='lower', cmap='viridis'), ax=ax)
    ellipse = Ellipse((row['x']/3600., row['y']/3600.),  # conversion from arcsecs to degrees
                      width=row['b']/3600.,
                      height=row['a']/3600.,
                      edgecolor='red',
                      facecolor='none',
                      angle=row['theta']+90,
                      transform=ax.get_transform('world'))
    ax.add_patch(ellipse)
    source_details = (f"Source {row['n']}\n"
                      f"x: {row['x']:.2f}, y: {row['y']:.2f}\n"
                      f"a: {row['a']:.2f}, b: {row['b']:.2f}\n"
                      f"theta: {row['theta']:.2f}, z: {row['z']:.2f}\n"
                      f"mag: {row['mag']:.2f}")
    ax.set_title(f"Source {row['n']}", fontsize=16)
    
    # Adding source details to the plot
    fig.text(0.5, 0.02, source_details, fontsize=12, ha='center', bbox=dict(facecolor='white', alpha=0.6))

    # Save to PDF
    timestamp = datetime.now().strftime("%Y%m%d_%H%M%S")
    output_file = os.path.join(output_dir, f"{timestamp}_source_{row['n']}.pdf")
    plt.savefig(output_file, bbox_inches='tight')
    plt.close(fig)
